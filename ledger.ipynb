{
 "nbformat": 4,
 "nbformat_minor": 0,
 "metadata": {
  "colab": {
   "name": "ledger.ipynb",
   "provenance": [],
   "collapsed_sections": []
  },
  "kernelspec": {
   "name": "python3",
   "display_name": "Python 3"
  },
  "language_info": {
   "name": "python"
  }
 },
 "cells": [
  {
   "cell_type": "markdown",
   "source": [
    "### Tutorial: Example\n",
    "\n",
    "# instantiate book\n",
    "fs = FinStat(ledger_path, inc_path, bal_path)\n",
    "\n",
    "# add transaction\n",
    "fs.transaction('WF', 4, 'Gross Income', 100.00, 120.00, 'BREI', date=datetime.datetime(2022,1,11).date(), description='WF1 Rent')\n",
    "\n",
    "# display\n",
    "fs.inc_stat.df\n",
    "\n",
    "# is balance sheet balanced?\n",
    "fs.bal_sht.balance\n",
    "\n",
    "# export\n",
    "fs.export()"
   ],
   "metadata": {
    "collapsed": false,
    "pycharm": {
     "name": "#%% md\n"
    }
   }
  },
  {
   "cell_type": "code",
   "execution_count": 157,
   "outputs": [],
   "source": [
    "import pandas as pd\n",
    "import datetime\n",
    "from os.path import exists"
   ],
   "metadata": {
    "collapsed": false,
    "pycharm": {
     "name": "#%%\n"
    }
   }
  },
  {
   "cell_type": "code",
   "execution_count": 158,
   "outputs": [],
   "source": [
    "class Statement:\n",
    "    \"\"\"\n",
    "    baseline statement cls\n",
    "    \"\"\"\n",
    "    def __init__(self, path):\n",
    "        self.path = path\n",
    "        if exists(self.path):\n",
    "            self.df = pd.read_csv(self.path, index_col=0)\n",
    "        else:\n",
    "            self.create_new()\n",
    "            self.df = pd.read_csv(self.path, index_col=0)\n",
    "\n",
    "    def create_new(self):\n",
    "        pass\n",
    "\n",
    "    def entry(self, category, amount):\n",
    "        self.df.at[category, 'USD'] += amount\n",
    "        self.update()\n",
    "\n",
    "    def remove(self, category, amount):\n",
    "        self.df.at[category, 'USD'] -= amount\n",
    "        self.update()\n",
    "\n",
    "    def update(self):\n",
    "        pass\n",
    "\n",
    "    def download(self):\n",
    "        self.df.to_csv(self.path)\n"
   ],
   "metadata": {
    "collapsed": false,
    "pycharm": {
     "name": "#%%\n"
    }
   }
  },
  {
   "cell_type": "code",
   "execution_count": 159,
   "outputs": [],
   "source": [
    "class IncStat(Statement):\n",
    "    \"\"\"\n",
    "    Gross Income: rent, late fee\n",
    "    Gross Expense: pm, repair, maintenance, utilty, legal&pro, insurance, tax\n",
    "    *Operating Income = [sum]\n",
    "    Capital Income: invest\n",
    "    Capital Expense: interest\n",
    "    *Net Income = [op inc + sum]\n",
    "\n",
    "    * auto-calculate\n",
    "    \"\"\"\n",
    "    def create_new(self):\n",
    "        pd.DataFrame({'USD':[0.00, 0.00, 0.00, 0.00, 0.00, 0.00]},\n",
    "                     index=['Gross Income', 'Gross Expense',\n",
    "                            'Operating Income',\n",
    "                            'Capital Income', 'Captial Expense',\n",
    "                            'Net Income']).to_csv(self.path)\n",
    "\n",
    "    def update(self):\n",
    "        self.df.at['Operating Income', 'USD'] = self.df.at['Gross Income', 'USD'] - self.df.at['Gross Expense', 'USD']\n",
    "        self.df.at['Net Income', 'USD'] = self.df.at['Operating Income', 'USD'] + self.df.at['Capital Income', 'USD'] - self.df.at['Captial Expense', 'USD']"
   ],
   "metadata": {
    "collapsed": false,
    "pycharm": {
     "name": "#%%\n"
    }
   }
  },
  {
   "cell_type": "code",
   "execution_count": 175,
   "outputs": [],
   "source": [
    "class BalSht(Statement):\n",
    "    \"\"\"\n",
    "    Cash:\n",
    "    Account Receivable: owed\n",
    "    Securities: owned shares\n",
    "    Property: property\n",
    "    *Total Asset = [ass curr + ass long]\n",
    "    Account Payable:\n",
    "    Unearned Revenue: write offs\n",
    "    Debt:\n",
    "    *Total Liability = [liab curr + liab long]\n",
    "    Contributed Capital\n",
    "    Previous Retained Earning\n",
    "    *Retained Earning = [Previous Retained Earning + net inc]\n",
    "    *Total Equity = [Contributed Capital + Retained Earning]\n",
    "\n",
    "    * auto-calculate\n",
    "\n",
    "    Balanced: bool\n",
    "    *Check eq = [cap + retained earning]\n",
    "    *Check eq = [ass - liab]\n",
    "    \"\"\"\n",
    "    def __init__(self, path):\n",
    "        super().__init__(path)\n",
    "        self.balance = self.check_balance()\n",
    "\n",
    "    def create_new(self):\n",
    "        pd.DataFrame({'USD':[0.00, 0.00, 0.00, 0.00, 0.00, 0.00, 0.00, 0.00, 0.00, 0.00, 0.00, 0.00, 0.00]},\n",
    "             index=['Cash', 'Account Receivable', 'Securities', 'Property', 'Total Asset',\n",
    "                    'Account Payable', 'Unearned Revenue', 'Debt', 'Total Liability',\n",
    "                    'Contributed Capital', 'Previous Retained Earning', 'Retained Earning', 'Total Equity']).to_csv(self.path)\n",
    "\n",
    "    def check_balance(self):\n",
    "        if (self.df.at['Total Asset', 'USD'] - self.df.at['Total Liability', 'USD']) == self.df.at['Total Equity', 'USD']:\n",
    "            return True\n",
    "        return False\n",
    "\n",
    "    def update(self):\n",
    "        self.df.at['Total Asset', 'USD'] = self.df.at['Cash', 'USD'] + self.df.at['Account Receivable', 'USD'] + self.df.at['Securities', 'USD'] + self.df.at['Property', 'USD']\n",
    "        self.df.at['Total Liability', 'USD'] = self.df.at['Account Payable', 'USD'] + self.df.at['Unearned Revenue', 'USD'] + self.df.at['Debt', 'USD']\n",
    "        self.df.at['Total Equity', 'USD'] = self.df.at['Contributed Capital', 'USD'] + self.df.at['Retained Earning', 'USD']\n",
    "        self.balance = self.check_balance()"
   ],
   "metadata": {
    "collapsed": false,
    "pycharm": {
     "name": "#%%\n"
    }
   }
  },
  {
   "cell_type": "code",
   "execution_count": 161,
   "outputs": [],
   "source": [
    "class Ledger(Statement):\n",
    "    def create_new(self):\n",
    "        pd.DataFrame(columns=['Date', 'Property', 'Unit', 'Category', 'Description', 'Cost', 'Bill']).to_csv(self.path)\n",
    "\n",
    "    def entry(self, transact):\n",
    "        self.df = self.df.append(transact, ignore_index=True)"
   ],
   "metadata": {
    "collapsed": false,
    "pycharm": {
     "name": "#%%\n"
    }
   }
  },
  {
   "cell_type": "code",
   "execution_count": 223,
   "outputs": [],
   "source": [
    "class FinStat:\n",
    "    \"\"\"\n",
    "    For PRE\n",
    "    \"\"\"\n",
    "    def __init__(self, ledger_path, inc_path, bal_path):\n",
    "        self.ledger = Ledger(ledger_path)\n",
    "        self.inc_stat = IncStat(inc_path)\n",
    "        self.bal_sht = BalSht(bal_path)\n",
    "\n",
    "    def update(self):\n",
    "        self.bal_sht.df.at['Retained Earning', 'USD'] = self.inc_stat.df.at['Net Income', 'USD'] + self.bal_sht.df.at['Previous Retained Earning', 'USD']\n",
    "        self.bal_sht.update()\n",
    "\n",
    "    def transaction(self, prop, unit, category, cost, bill, tgt_cat=\"Cash\", date=datetime.datetime.now().date(), description=''):\n",
    "        \"\"\"\n",
    "        :param prop: str - address\n",
    "        :param cost: float - real cost\n",
    "        :param bill: str - entity to invoice\n",
    "        :param category: str - ...\n",
    "        :param tgt_cat: str - target category in balance sheet\n",
    "        :param description: str - ...\n",
    "        :param unit: int\n",
    "        :param date: datetime - date of transaction\n",
    "        :rtype: none\n",
    "        \"\"\"\n",
    "        transact = {'Date': date,\n",
    "                    'Property': prop,\n",
    "                    'Unit': unit,\n",
    "                    'Category': category,\n",
    "                    'Description': description,\n",
    "                    'Cost': cost,\n",
    "                    'Bill': bill}\n",
    "        tmp_ledger = self.ledger.df.copy()\n",
    "        tmp_inc_stat = self.inc_stat.df.copy()\n",
    "        tmp_bal_sht = self.bal_sht.df.copy()\n",
    "        try:\n",
    "            self.ledger.df = self.ledger.df.append(transact, ignore_index=True)\n",
    "            if category in self.inc_stat.df.index:\n",
    "                self.inc_stat.entry(category, cost)\n",
    "                self.update()\n",
    "                if \"Income\" in category:\n",
    "                    self.bal_sht.entry(tgt_cat, cost)\n",
    "                elif \"Expense\" in category:\n",
    "                    self.bal_sht.entry(tgt_cat, -cost)\n",
    "            elif category in self.bal_sht.df.index:\n",
    "                self.bal_sht.entry(category, cost)\n",
    "            else:\n",
    "                raise NameError(\"Unknown category!\")\n",
    "            if not self.bal_sht.balance:\n",
    "                raise NameError(\"Unbalanced accounts!\")\n",
    "        except:\n",
    "            self.revert(tmp_ledger, tmp_inc_stat, tmp_bal_sht, transact)\n",
    "\n",
    "    def revert(self, rev_ledger, rev_inc, rev_bal, transact):\n",
    "        print(f\"Transaction Error: {transact}\")\n",
    "        self.ledger.df = rev_ledger\n",
    "        self.inc_stat.df = rev_inc\n",
    "        self.bal_sht.df = rev_bal\n",
    "\n",
    "    def export(self):\n",
    "        self.ledger.download()\n",
    "        self.inc_stat.download()\n",
    "        self.bal_sht.download()"
   ],
   "metadata": {
    "collapsed": false,
    "pycharm": {
     "name": "#%%\n"
    }
   }
  },
  {
   "cell_type": "markdown",
   "source": [
    "### Use"
   ],
   "metadata": {
    "collapsed": false,
    "pycharm": {
     "name": "#%% md\n"
    }
   }
  },
  {
   "cell_type": "code",
   "execution_count": 224,
   "outputs": [],
   "source": [
    "# Create your own path directory txt file\n",
    "\n",
    "with open('path.txt') as f:\n",
    "    lines = f.read()\n",
    "dirs = lines.splitlines()\n",
    "\n",
    "ledger_path = dirs[0]\n",
    "inc_path = dirs[1]\n",
    "bal_path = dirs[2]\n",
    "\n",
    "fs = FinStat(ledger_path, inc_path, bal_path)"
   ],
   "metadata": {
    "collapsed": false,
    "pycharm": {
     "name": "#%%\n"
    }
   }
  }
 ]
}