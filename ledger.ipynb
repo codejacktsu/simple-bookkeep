{
 "nbformat": 4,
 "nbformat_minor": 0,
 "metadata": {
  "colab": {
   "name": "ledger.ipynb",
   "provenance": [],
   "collapsed_sections": []
  },
  "kernelspec": {
   "name": "python3",
   "language": "python",
   "display_name": "Python 3"
  },
  "language_info": {
   "name": "python"
  }
 },
 "cells": [
  {
   "cell_type": "code",
   "execution_count": 1,
   "outputs": [],
   "source": [
    "import pandas as pd\n",
    "import datetime\n",
    "from os.path import exists"
   ],
   "metadata": {
    "collapsed": false,
    "pycharm": {
     "name": "#%%\n"
    }
   }
  },
  {
   "cell_type": "code",
   "execution_count": 3,
   "outputs": [],
   "source": [
    "class Statement:\n",
    "    \"\"\"\n",
    "    baseline statement cls\n",
    "    \"\"\"\n",
    "    def __init__(self, path):\n",
    "        self.path = path\n",
    "        if exists(self.path):\n",
    "            self.df = pd.read_csv(self.path, index_col=0)\n",
    "        else:\n",
    "            self.create_new()\n",
    "            self.df = pd.read_csv(self.path, index_col=0)\n",
    "\n",
    "    def create_new(self):\n",
    "        pass\n",
    "\n",
    "    def entry(self, category, amount):\n",
    "        self.df.at[category, 'USD'] += amount\n",
    "        self.update()\n",
    "\n",
    "    def remove(self, category, amount):\n",
    "        self.df.at[category, 'USD'] -= amount\n",
    "        self.update()\n",
    "\n",
    "    def update(self):\n",
    "        pass\n",
    "\n",
    "    def download(self):\n",
    "        self.df.to_csv(self.path)\n"
   ],
   "metadata": {
    "collapsed": false,
    "pycharm": {
     "name": "#%%\n"
    }
   }
  },
  {
   "cell_type": "code",
   "execution_count": 4,
   "outputs": [],
   "source": [
    "class IncStat(Statement):\n",
    "    \"\"\"\n",
    "    Gross Income: rent, late fee\n",
    "    Gross Expense: pm, repair, maintenance, utilty, legal&pro, insurance, tax\n",
    "    *Operating Income = [sum]\n",
    "    Capital Income: invest\n",
    "    Capital Expense: interest\n",
    "    *Net Income = [op inc + sum]\n",
    "\n",
    "    * auto-calculate\n",
    "    \"\"\"\n",
    "    def create_new(self):\n",
    "        pd.DataFrame({'USD':[0.00, 0.00, 0.00, 0.00, 0.00, 0.00]},\n",
    "                     index=['Gross Income', 'Gross Expense',\n",
    "                            'Operating Income',\n",
    "                            'Capital Income', 'Capital Expense',\n",
    "                            'Net Income']).to_csv(self.path)\n",
    "\n",
    "    def update(self):\n",
    "        self.df.at['Operating Income', 'USD'] = self.df.at['Gross Income', 'USD'] - self.df.at['Gross Expense', 'USD']\n",
    "        self.df.at['Net Income', 'USD'] = self.df.at['Operating Income', 'USD'] + self.df.at['Capital Income', 'USD'] - self.df.at['Capital Expense', 'USD']"
   ],
   "metadata": {
    "collapsed": false,
    "pycharm": {
     "name": "#%%\n"
    }
   }
  },
  {
   "cell_type": "code",
   "execution_count": 5,
   "outputs": [],
   "source": [
    "class BalSht(Statement):\n",
    "    \"\"\"\n",
    "    Cash:\n",
    "    Account Receivable: owed\n",
    "    Securities: owned shares\n",
    "    Property: property\n",
    "    *Total Asset = [ass curr + ass long]\n",
    "    Account Payable:\n",
    "    Unearned Revenue: write offs\n",
    "    Debt:\n",
    "    *Total Liability = [liab curr + liab long]\n",
    "    Contributed Capital\n",
    "    Previous Retained Earning\n",
    "    *Retained Earning = [Previous Retained Earning + net inc]\n",
    "    *Total Equity = [Contributed Capital + Retained Earning]\n",
    "\n",
    "    * auto-calculate\n",
    "\n",
    "    Balanced: bool\n",
    "    *Check eq = [cap + retained earning]\n",
    "    *Check eq = [ass - liab]\n",
    "    \"\"\"\n",
    "    def __init__(self, path):\n",
    "        super().__init__(path)\n",
    "        self.balance = self.check_balance()\n",
    "\n",
    "    def create_new(self):\n",
    "        pd.DataFrame({'USD':[0.00, 0.00, 0.00, 0.00, 0.00, 0.00, 0.00, 0.00, 0.00, 0.00, 0.00, 0.00, 0.00]},\n",
    "             index=['Cash', 'Account Receivable', 'Securities', 'Property', 'Total Asset',\n",
    "                    'Account Payable', 'Unearned Revenue', 'Debt', 'Total Liability',\n",
    "                    'Contributed Capital', 'Previous Retained Earning', 'Retained Earning', 'Total Equity']).to_csv(self.path)\n",
    "\n",
    "    def check_balance(self):\n",
    "        if (self.df.at['Total Asset', 'USD'] - self.df.at['Total Liability', 'USD']) == self.df.at['Total Equity', 'USD']:\n",
    "            return True\n",
    "        return False\n",
    "\n",
    "    def update(self):\n",
    "        self.df.at['Total Asset', 'USD'] = self.df.at['Cash', 'USD'] + self.df.at['Account Receivable', 'USD'] + self.df.at['Securities', 'USD'] + self.df.at['Property', 'USD']\n",
    "        self.df.at['Total Liability', 'USD'] = self.df.at['Account Payable', 'USD'] + self.df.at['Unearned Revenue', 'USD'] + self.df.at['Debt', 'USD']\n",
    "        self.df.at['Total Equity', 'USD'] = self.df.at['Contributed Capital', 'USD'] + self.df.at['Retained Earning', 'USD']\n",
    "        self.balance = self.check_balance()"
   ],
   "metadata": {
    "collapsed": false,
    "pycharm": {
     "name": "#%%\n"
    }
   }
  },
  {
   "cell_type": "code",
   "execution_count": 6,
   "outputs": [],
   "source": [
    "class Ledger(Statement):\n",
    "    def create_new(self):\n",
    "        pd.DataFrame(columns=['Date', 'Property', 'Unit', 'Category', 'Description', 'Cost', 'Bill']).to_csv(self.path)\n",
    "\n",
    "    def entry(self, transact):\n",
    "        self.df = self.df.append(transact, ignore_index=True)"
   ],
   "metadata": {
    "collapsed": false,
    "pycharm": {
     "name": "#%%\n"
    }
   }
  },
  {
   "cell_type": "code",
   "execution_count": 1,
   "outputs": [
    {
     "ename": "NameError",
     "evalue": "name 'datetime' is not defined",
     "output_type": "error",
     "traceback": [
      "\u001B[1;31m---------------------------------------------------------------------------\u001B[0m",
      "\u001B[1;31mNameError\u001B[0m                                 Traceback (most recent call last)",
      "\u001B[1;32m<ipython-input-1-084bd21d4a00>\u001B[0m in \u001B[0;36m<module>\u001B[1;34m\u001B[0m\n\u001B[1;32m----> 1\u001B[1;33m \u001B[1;32mclass\u001B[0m \u001B[0mFinStat\u001B[0m\u001B[1;33m:\u001B[0m\u001B[1;33m\u001B[0m\u001B[1;33m\u001B[0m\u001B[0m\n\u001B[0m\u001B[0;32m      2\u001B[0m     \"\"\"\n\u001B[0;32m      3\u001B[0m     \u001B[0mFor\u001B[0m \u001B[0mPRE\u001B[0m\u001B[1;33m\u001B[0m\u001B[1;33m\u001B[0m\u001B[0m\n\u001B[0;32m      4\u001B[0m     \"\"\"\n\u001B[0;32m      5\u001B[0m     \u001B[1;32mdef\u001B[0m \u001B[0m__init__\u001B[0m\u001B[1;33m(\u001B[0m\u001B[0mself\u001B[0m\u001B[1;33m,\u001B[0m \u001B[0mledger_path\u001B[0m\u001B[1;33m,\u001B[0m \u001B[0minc_path\u001B[0m\u001B[1;33m,\u001B[0m \u001B[0mbal_path\u001B[0m\u001B[1;33m)\u001B[0m\u001B[1;33m:\u001B[0m\u001B[1;33m\u001B[0m\u001B[1;33m\u001B[0m\u001B[0m\n",
      "\u001B[1;32m<ipython-input-1-084bd21d4a00>\u001B[0m in \u001B[0;36mFinStat\u001B[1;34m()\u001B[0m\n\u001B[0;32m     12\u001B[0m         \u001B[0mself\u001B[0m\u001B[1;33m.\u001B[0m\u001B[0mbal_sht\u001B[0m\u001B[1;33m.\u001B[0m\u001B[0mupdate\u001B[0m\u001B[1;33m(\u001B[0m\u001B[1;33m)\u001B[0m\u001B[1;33m\u001B[0m\u001B[1;33m\u001B[0m\u001B[0m\n\u001B[0;32m     13\u001B[0m \u001B[1;33m\u001B[0m\u001B[0m\n\u001B[1;32m---> 14\u001B[1;33m     \u001B[1;32mdef\u001B[0m \u001B[0mtransaction\u001B[0m\u001B[1;33m(\u001B[0m\u001B[0mself\u001B[0m\u001B[1;33m,\u001B[0m \u001B[0mprop\u001B[0m\u001B[1;33m,\u001B[0m \u001B[0munit\u001B[0m\u001B[1;33m,\u001B[0m \u001B[0mcategory\u001B[0m\u001B[1;33m,\u001B[0m \u001B[0mcost\u001B[0m\u001B[1;33m,\u001B[0m \u001B[0mbill\u001B[0m\u001B[1;33m,\u001B[0m \u001B[0mtgt_cat\u001B[0m\u001B[1;33m=\u001B[0m\u001B[1;34m\"Cash\"\u001B[0m\u001B[1;33m,\u001B[0m \u001B[0mdate\u001B[0m\u001B[1;33m=\u001B[0m\u001B[0mdatetime\u001B[0m\u001B[1;33m.\u001B[0m\u001B[0mdatetime\u001B[0m\u001B[1;33m.\u001B[0m\u001B[0mnow\u001B[0m\u001B[1;33m(\u001B[0m\u001B[1;33m)\u001B[0m\u001B[1;33m.\u001B[0m\u001B[0mdate\u001B[0m\u001B[1;33m(\u001B[0m\u001B[1;33m)\u001B[0m\u001B[1;33m,\u001B[0m \u001B[0mdescription\u001B[0m\u001B[1;33m=\u001B[0m\u001B[1;34m''\u001B[0m\u001B[1;33m)\u001B[0m\u001B[1;33m:\u001B[0m\u001B[1;33m\u001B[0m\u001B[1;33m\u001B[0m\u001B[0m\n\u001B[0m\u001B[0;32m     15\u001B[0m         \"\"\"\n\u001B[0;32m     16\u001B[0m         \u001B[1;33m:\u001B[0m\u001B[0mparam\u001B[0m \u001B[0mprop\u001B[0m\u001B[1;33m:\u001B[0m \u001B[0mstr\u001B[0m \u001B[1;33m-\u001B[0m \u001B[0maddress\u001B[0m\u001B[1;33m\u001B[0m\u001B[1;33m\u001B[0m\u001B[0m\n",
      "\u001B[1;31mNameError\u001B[0m: name 'datetime' is not defined"
     ]
    }
   ],
   "source": [
    "class FinStat:\n",
    "    \"\"\"\n",
    "    For PRE\n",
    "    \"\"\"\n",
    "    def __init__(self, ledger_path, inc_path, bal_path):\n",
    "        self.ledger = Ledger(ledger_path)\n",
    "        self.inc_stat = IncStat(inc_path)\n",
    "        self.bal_sht = BalSht(bal_path)\n",
    "\n",
    "    def update(self):\n",
    "        self.bal_sht.df.at['Retained Earning', 'USD'] = self.inc_stat.df.at['Net Income', 'USD'] + self.bal_sht.df.at['Previous Retained Earning', 'USD']\n",
    "        self.bal_sht.update()\n",
    "\n",
    "    def transaction(self, prop, unit, category, cost, bill, tgt_cat=\"Cash\", date=datetime.datetime.now().date(), description=''):\n",
    "        \"\"\"\n",
    "        :param prop: str - address\n",
    "        :param cost: float - real cost\n",
    "        :param bill: str - entity to invoice\n",
    "        :param category: str - ...\n",
    "        :param tgt_cat: str - target category in balance sheet\n",
    "        :param description: str - ...\n",
    "        :param unit: int\n",
    "        :param date: datetime - date of transaction\n",
    "        :rtype: none\n",
    "        \"\"\"\n",
    "        transact = {'Date': date,\n",
    "                    'Property': prop,\n",
    "                    'Unit': unit,\n",
    "                    'Category': category,\n",
    "                    'Description': description,\n",
    "                    'Cost': cost,\n",
    "                    'Bill': bill}\n",
    "        tmp_ledger = self.ledger.df.copy()\n",
    "        tmp_inc_stat = self.inc_stat.df.copy()\n",
    "        tmp_bal_sht = self.bal_sht.df.copy()\n",
    "        try:\n",
    "            self.ledger.df = self.ledger.df.append(transact, ignore_index=True)\n",
    "            if category in self.inc_stat.df.index:\n",
    "                self.inc_stat.entry(category, cost)\n",
    "                self.update()\n",
    "                if \"Income\" in category:\n",
    "                    self.bal_sht.entry(tgt_cat, cost)\n",
    "                elif \"Expense\" in category:\n",
    "                    self.bal_sht.entry(tgt_cat, -cost)\n",
    "            elif category in self.bal_sht.df.index:\n",
    "                # reallocate from category to tgt_cat\n",
    "                self.bal_sht.entry(category, -cost)\n",
    "                self.bal_sht.entry(tgt_cat, cost)\n",
    "            else:\n",
    "                raise NameError(\"Unknown category!\")\n",
    "            if not self.bal_sht.balance:\n",
    "                raise NameError(\"Unbalanced accounts!\")\n",
    "        except:\n",
    "            self.revert(tmp_ledger, tmp_inc_stat, tmp_bal_sht, transact)\n",
    "\n",
    "    def revert(self, rev_ledger, rev_inc, rev_bal, transact):\n",
    "        print(f\"Transaction Error: {transact}\")\n",
    "        self.ledger.df = rev_ledger\n",
    "        self.inc_stat.df = rev_inc\n",
    "        self.bal_sht.df = rev_bal\n",
    "\n",
    "    def export(self):\n",
    "        self.ledger.download()\n",
    "        self.inc_stat.download()\n",
    "        self.bal_sht.download()"
   ],
   "metadata": {
    "collapsed": false,
    "pycharm": {
     "name": "#%%\n"
    }
   }
  },
  {
   "cell_type": "markdown",
   "source": [],
   "metadata": {
    "collapsed": false
   }
  }
 ]
}