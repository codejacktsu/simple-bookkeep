{
 "nbformat": 4,
 "nbformat_minor": 0,
 "metadata": {
  "colab": {
   "name": "ledger.ipynb",
   "provenance": [],
   "collapsed_sections": []
  },
  "kernelspec": {
   "name": "python3",
   "display_name": "Python 3"
  },
  "language_info": {
   "name": "python"
  }
 },
 "cells": [
  {
   "cell_type": "code",
   "source": [
    "import pandas as pd\n",
    "import datetime"
   ],
   "metadata": {
    "id": "8LzWDlyOUZQ_"
   },
   "execution_count": 1,
   "outputs": []
  },
  {
   "cell_type": "code",
   "execution_count": 26,
   "outputs": [],
   "source": [
    "# Create New Files\n",
    "\n",
    "# income statement\n",
    "pd.DataFrame({'USD':[0.00, 0.00, 0.00, 0.00, 0.00, 0.00]},\n",
    "             index=['Gross Income', 'Gross Expense',\n",
    "                    'Operating Income',\n",
    "                    'Capital Income', 'Captial Expense',\n",
    "                    'Net Income']).to_csv(inc_path)\n",
    "\n",
    "# balance sheet\n",
    "pd.DataFrame({'USD':[0.00, 0.00, 0.00, 0.00, 0.00, 0.00, 0.00, 0.00, 0.00, 0.00, 0.00, 0.00, 0.00, 0.00]},\n",
    "             index=['Net Income A',\n",
    "                    'Cash', 'Account Receivable', 'Securities', 'Property', 'Total Asset',\n",
    "                    'Account Payable', 'Unearned Revenue', 'Debt', 'Total Liability',\n",
    "                    'Contributed Capital', 'Net Income E', 'Retained Earning', 'Total Equity']).to_csv(bal_path)\n",
    "\n",
    "# ledger\n",
    "pd.DataFrame(columns=['Date', 'Property', 'Unit', 'Category', 'Description', 'Cost', 'MSRP', 'Bill']).to_csv(ledger_path)"
   ],
   "metadata": {
    "collapsed": false,
    "pycharm": {
     "name": "#%%\n"
    }
   }
  },
  {
   "cell_type": "code",
   "source": [
    "class Statement():\n",
    "    \"\"\"\n",
    "    baseline statement cls\n",
    "    \"\"\"\n",
    "    def __init__(self, path):\n",
    "        self.df = pd.read_csv(path, index_col=0)\n",
    "    \n",
    "    def entry(self, category, amount):\n",
    "        self.df.at[category, 'USD'] += amount\n",
    "        self.update()\n",
    "\n",
    "    def remove(self, category, amount):\n",
    "        self.df.at[category, 'USD'] -= amount\n",
    "        self.update()\n",
    "\n",
    "    def update(self):\n",
    "        pass"
   ],
   "metadata": {
    "id": "TI1TsWceaJLD"
   },
   "execution_count": 27,
   "outputs": []
  },
  {
   "cell_type": "code",
   "source": [
    "class Inc_stat(Statement):\n",
    "    \"\"\"\n",
    "    Gross Income: rent, late fee\n",
    "    Gross Expense: pm, repair, maintenance, utilty, legal&pro, insurance, tax\n",
    "    *Operating Income = [sum]\n",
    "    Capital Income: invest\n",
    "    Capital Expense: interest\n",
    "    *Net Income = [op inc + sum]\n",
    "\n",
    "    * auto-calculate\n",
    "    \"\"\"\n",
    "    def update(self):\n",
    "        self.df.at['Operating Income', 'USD'] = self.df.at['Gross Income', 'USD'] - self.df.at['Gross Expense', 'USD']\n",
    "        self.df.at['Net Income', 'USD'] = self.df.at['Operating Income', 'USD'] + self.df.at['Capital Income', 'USD'] - self.df.at['Captial Expense', 'USD']"
   ],
   "metadata": {
    "id": "r6_oyll6my8L"
   },
   "execution_count": 28,
   "outputs": []
  },
  {
   "cell_type": "code",
   "source": [
    "class Bal_sht(Statement):\n",
    "    \"\"\"\n",
    "    *Net Income A: carry from income statement\n",
    "    Cash: \n",
    "    Account Receivable: owed\n",
    "    Securities: owned shares\n",
    "    Property: property\n",
    "    *Total Asset = [ass curr + ass long]\n",
    "    Account Payable: \n",
    "    Unearned Revenue: write offs\n",
    "    Debt:\n",
    "    *Total Liability = [liab curr + liab long]\n",
    "    Contributed Capital\n",
    "    *Net Income E: carry from income statement\n",
    "    Retained Earning + [net inc]\n",
    "    *Total Equity\n",
    "\n",
    "    * auto-calculate\n",
    "\n",
    "    Balanced: bool\n",
    "    *Check eq = [cap + retained earning]\n",
    "    *Check eq = [ass - liab]\n",
    "    \"\"\"\n",
    "    def update(self):\n",
    "        self.df.at['Total Asset', 'USD'] = self.df.at['Net Income A', 'USD'] + self.df.at['Cash', 'USD'] + self.df.at['Account Receivable', 'USD'] + self.df.at['Securities', 'USD'] + self.df.at['Property', 'USD']\n",
    "        self.df.at['Total Liability', 'USD'] = self.df.at['Account Payable', 'USD'] + self.df.at['Unearned Revenue', 'USD'] + self.df.at['Debt', 'USD']\n",
    "        self.df.at['Total Equity', 'USD'] = self.df.at['Contributed Capital', 'USD'] + self.df.at['Retained Earning', 'USD'] + self.df.at['Net Income E', 'USD']\n",
    "        if (self.df.at['Total Asset', 'USD'] - self.df.at['Total Liability', 'USD']) == self.df.at['Total Equity', 'USD']:\n",
    "            self.balance = True\n",
    "        else:\n",
    "            self.balance = False"
   ],
   "metadata": {
    "id": "3QVHTgNeodSN"
   },
   "execution_count": 29,
   "outputs": []
  },
  {
   "cell_type": "code",
   "source": [
    "class Ledger():\n",
    "    def __init__(self, path):\n",
    "        self.df = pd.read_csv(path, index_col=0)\n",
    "\n",
    "    def entry(self, transact):\n",
    "        self.df = self.df.append(transact, ignore_index=True)"
   ],
   "metadata": {
    "id": "k9x4jPSjkX9b"
   },
   "execution_count": 30,
   "outputs": []
  },
  {
   "cell_type": "code",
   "source": [
    "class FinStat():\n",
    "    \"\"\"\n",
    "    For PRE\n",
    "    \"\"\"\n",
    "    def __init__(self, ledger_path, inc_path, bal_path):\n",
    "        self.ledger = Ledger(ledger_path)\n",
    "        self.inc_stat = Inc_stat(inc_path)\n",
    "        self.bal_sht = Bal_sht(bal_path)\n",
    "\n",
    "    def update(self):\n",
    "        self.bal_sht.df.at['Net Income A', 'USD'] = self.inc_stat.df.at['Net Income', 'USD']\n",
    "        self.bal_sht.df.at['Net Income E', 'USD'] = self.inc_stat.df.at['Net Income', 'USD']\n",
    "        self.bal_sht.update()\n",
    "\n",
    "    def transaction(self, prop, unit, category, cost, msrp, bill, date=datetime.datetime.now().date(), description=''):\n",
    "        \"\"\"\n",
    "        :param prop: str - address\n",
    "        :param cost: float - real cost\n",
    "        :param msrp: float - market cost\n",
    "        :param bill: str - entity to invoice\n",
    "        :param category: str - ...\n",
    "        :param description: str - ...\n",
    "        :param unit: int\n",
    "        :param date: datetime - date of transaction\n",
    "        :rtype: none\n",
    "        \"\"\"\n",
    "        transact = {'Date': date,\n",
    "                  'Property': prop,\n",
    "                  'Unit': unit,\n",
    "                  'Category': category,\n",
    "                  'Description': description,\n",
    "                  'Cost': cost,\n",
    "                  'MSRP': msrp,\n",
    "                  'Bill': bill}\n",
    "        \n",
    "        self.ledger.df = self.ledger.df.append(transact, ignore_index=True)\n",
    "        if transact['Category'] in self.inc_stat.df.index:\n",
    "            self.inc_stat.entry(transact['Category'], transact['MSRP'])\n",
    "            self.update()\n",
    "        elif transact['Category'] in self.bal_sht.df.index:\n",
    "            self.bal_sht.entry(transact['Category'], transact['MSRP'])\n",
    "        else:\n",
    "            raise NameError(\"Unknown category!\")\n",
    "    \n",
    "    def commit(self):\n",
    "        self.ledger.df = self.ledger.df.append(self.transaction(), ignore_index=True)"
   ],
   "metadata": {
    "colab": {
     "base_uri": "https://localhost:8080/",
     "height": 488
    },
    "id": "4muMcLmTP8Pf",
    "outputId": "6ec15f28-b67a-4c75-9508-9bb12f55ed46"
   },
   "execution_count": 31,
   "outputs": [
    {
     "data": {
      "text/plain": "                       USD\nNet Income A         120.0\nCash                   0.0\nAccount Receivable     0.0\nSecurities             0.0\nProperty               0.0\nTotal Asset          120.0\nAccount Payable        0.0\nUnearned Revenue       0.0\nDebt                   0.0\nTotal Liability        0.0\nContributed Capital    0.0\nNet Income E         120.0\nRetained Earning       0.0\nTotal Equity         120.0",
      "text/html": "<div>\n<style scoped>\n    .dataframe tbody tr th:only-of-type {\n        vertical-align: middle;\n    }\n\n    .dataframe tbody tr th {\n        vertical-align: top;\n    }\n\n    .dataframe thead th {\n        text-align: right;\n    }\n</style>\n<table border=\"1\" class=\"dataframe\">\n  <thead>\n    <tr style=\"text-align: right;\">\n      <th></th>\n      <th>USD</th>\n    </tr>\n  </thead>\n  <tbody>\n    <tr>\n      <th>Net Income A</th>\n      <td>120.0</td>\n    </tr>\n    <tr>\n      <th>Cash</th>\n      <td>0.0</td>\n    </tr>\n    <tr>\n      <th>Account Receivable</th>\n      <td>0.0</td>\n    </tr>\n    <tr>\n      <th>Securities</th>\n      <td>0.0</td>\n    </tr>\n    <tr>\n      <th>Property</th>\n      <td>0.0</td>\n    </tr>\n    <tr>\n      <th>Total Asset</th>\n      <td>120.0</td>\n    </tr>\n    <tr>\n      <th>Account Payable</th>\n      <td>0.0</td>\n    </tr>\n    <tr>\n      <th>Unearned Revenue</th>\n      <td>0.0</td>\n    </tr>\n    <tr>\n      <th>Debt</th>\n      <td>0.0</td>\n    </tr>\n    <tr>\n      <th>Total Liability</th>\n      <td>0.0</td>\n    </tr>\n    <tr>\n      <th>Contributed Capital</th>\n      <td>0.0</td>\n    </tr>\n    <tr>\n      <th>Net Income E</th>\n      <td>120.0</td>\n    </tr>\n    <tr>\n      <th>Retained Earning</th>\n      <td>0.0</td>\n    </tr>\n    <tr>\n      <th>Total Equity</th>\n      <td>120.0</td>\n    </tr>\n  </tbody>\n</table>\n</div>"
     },
     "execution_count": 31,
     "metadata": {},
     "output_type": "execute_result"
    }
   ]
  },
  {
   "cell_type": "markdown",
   "source": [
    "### Tutorial: Example"
   ],
   "metadata": {
    "collapsed": false,
    "pycharm": {
     "name": "#%% md\n"
    }
   }
  },
  {
   "cell_type": "code",
   "execution_count": 32,
   "outputs": [],
   "source": [
    "# Create your own path directory txt file\n",
    "\n",
    "with open('path.txt') as f:\n",
    "    lines = f.read()\n",
    "dirs = lines.splitlines()\n",
    "\n",
    "ledger_path = dirs[0]\n",
    "inc_path = dirs[1]\n",
    "bal_path = dirs[2]"
   ],
   "metadata": {
    "collapsed": false,
    "pycharm": {
     "name": "#%%\n"
    }
   }
  },
  {
   "cell_type": "code",
   "execution_count": 34,
   "outputs": [
    {
     "data": {
      "text/plain": "                    USD\nGross Income      120.0\nGross Expense       0.0\nOperating Income  120.0\nCapital Income      0.0\nCaptial Expense     0.0\nNet Income        120.0",
      "text/html": "<div>\n<style scoped>\n    .dataframe tbody tr th:only-of-type {\n        vertical-align: middle;\n    }\n\n    .dataframe tbody tr th {\n        vertical-align: top;\n    }\n\n    .dataframe thead th {\n        text-align: right;\n    }\n</style>\n<table border=\"1\" class=\"dataframe\">\n  <thead>\n    <tr style=\"text-align: right;\">\n      <th></th>\n      <th>USD</th>\n    </tr>\n  </thead>\n  <tbody>\n    <tr>\n      <th>Gross Income</th>\n      <td>120.0</td>\n    </tr>\n    <tr>\n      <th>Gross Expense</th>\n      <td>0.0</td>\n    </tr>\n    <tr>\n      <th>Operating Income</th>\n      <td>120.0</td>\n    </tr>\n    <tr>\n      <th>Capital Income</th>\n      <td>0.0</td>\n    </tr>\n    <tr>\n      <th>Captial Expense</th>\n      <td>0.0</td>\n    </tr>\n    <tr>\n      <th>Net Income</th>\n      <td>120.0</td>\n    </tr>\n  </tbody>\n</table>\n</div>"
     },
     "execution_count": 34,
     "metadata": {},
     "output_type": "execute_result"
    }
   ],
   "source": [
    "fs = FinStat(ledger_path, inc_path, bal_path)\n",
    "\n",
    "# add transaction\n",
    "fs.transaction('WF', 4, 'Gross Income', 100.00, 120.00, 'BREI', date=datetime.datetime(2022,1,11).date(), description='WF1 Rent')\n",
    "\n",
    "# display\n",
    "fs.inc_stat.df"
   ],
   "metadata": {
    "collapsed": false,
    "pycharm": {
     "name": "#%%\n"
    }
   }
  }
 ]
}